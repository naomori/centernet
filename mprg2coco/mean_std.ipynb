{
 "cells": [
  {
   "cell_type": "markdown",
   "source": [
    "# ARC2017 Dataset\n",
    "\n",
    "データセットの正規化のために、平均と標準偏差を求めておきます。\n",
    "訓練と検証のデータセットを合わせた平均と標準偏差を求めます。\n",
    "\n",
    "結果は以下のようになりました。\n",
    "合っているのかな？\n",
    "\n",
    "* mean: [ 93.04990963  98.91515264 107.88029397], normalize:[0.36490161 0.38790256 0.42305998]\n",
    "* stddev: [51.02003064 72.8362292  80.03868411], normalize:[0.20007855 0.28563227 0.31387719]\n"
   ],
   "metadata": {
    "collapsed": false,
    "pycharm": {
     "name": "#%% md\n"
    }
   }
  },
  {
   "cell_type": "code",
   "execution_count": 40,
   "metadata": {
    "collapsed": true,
    "pycharm": {
     "is_executing": false
    }
   },
   "outputs": [],
   "source": [
    "import cv2\n",
    "import numpy as np\n",
    "from pycocotools.coco import COCO"
   ]
  },
  {
   "cell_type": "code",
   "execution_count": 41,
   "outputs": [],
   "source": [
    "arc_dir = '/workspace/arc2018'\n",
    "json_dir = './json'\n",
    "train_img_dir   = f'{arc_dir}/datasets/ARCdataset_png/train/rgb'\n",
    "train_anno_file = f'{json_dir}/train_coco.json'\n",
    "valid_img_dir   = f'{arc_dir}/datasets/ARCdataset_png/test_known/rgb'\n",
    "valid_anno_file = f'{json_dir}/valid_coco.json'\n"
   ],
   "metadata": {
    "collapsed": false,
    "pycharm": {
     "name": "#%%\n",
     "is_executing": false
    }
   }
  },
  {
   "cell_type": "code",
   "execution_count": 55,
   "outputs": [
    {
     "name": "stdout",
     "text": [
      "loading annotations into memory...\nDone (t=0.01s)\ncreating index...\nindex created!\n",
      "loading annotations into memory...\nDone (t=0.00s)\ncreating index...\nindex created!\n"
     ],
     "output_type": "stream"
    }
   ],
   "source": [
    "train_coco = COCO(train_anno_file)\n",
    "train_img_ids = train_coco.getImgIds()\n",
    "train_imgs = train_coco.loadImgs(train_img_ids)\n",
    "\n",
    "train_mean_sum = np.zeros(3)\n",
    "train_stddev_sum = np.zeros(3)\n",
    "for img in train_imgs:\n",
    "    img_bgr = cv2.imread(f\"{train_img_dir}/{img['file_name']}\", cv2.IMREAD_COLOR)\n",
    "    img_rgb = cv2.cvtColor(img_bgr, cv2.COLOR_BGR2RGB)\n",
    "    mean, stddev = cv2.meanStdDev(img_rgb)\n",
    "    train_mean_sum += np.reshape(mean, 3)\n",
    "    train_stddev_sum += np.reshape(stddev, 3)\n",
    "    \n",
    "valid_coco = COCO(valid_anno_file)\n",
    "valid_img_ids = valid_coco.getImgIds()\n",
    "valid_imgs = valid_coco.loadImgs(valid_img_ids)\n",
    "\n",
    "valid_mean_sum = np.zeros(3)\n",
    "valid_stddev_sum = np.zeros(3)\n",
    "for img in valid_imgs:\n",
    "    img_bgr = cv2.imread(f\"{valid_img_dir}/{img['file_name']}\", cv2.IMREAD_COLOR)\n",
    "    img_rgb = cv2.cvtColor(img_bgr, cv2.COLOR_BGR2RGB)\n",
    "    mean, stddev = cv2.meanStdDev(img_rgb)\n",
    "    valid_mean_sum += np.reshape(mean, 3)\n",
    "    valid_stddev_sum += np.reshape(stddev, 3)\n",
    "    "
   ],
   "metadata": {
    "collapsed": false,
    "pycharm": {
     "name": "#%%\n",
     "is_executing": false
    }
   }
  },
  {
   "cell_type": "code",
   "execution_count": 56,
   "outputs": [
    {
     "name": "stdout",
     "text": [
      "mean: [ 93.04990963  98.91515264 107.88029397]\nstddev: [51.02003064 72.8362292  80.03868411]\n"
     ],
     "output_type": "stream"
    }
   ],
   "source": [
    "total_imgnum = len(train_img_ids) + len(valid_img_ids)\n",
    "mean = (train_mean_sum + valid_mean_sum) / total_imgnum\n",
    "stddev = (train_stddev_sum + valid_stddev_sum) / total_imgnum \n",
    "print(f'mean: {mean}')\n",
    "print(f'stddev: {stddev}')"
   ],
   "metadata": {
    "collapsed": false,
    "pycharm": {
     "name": "#%%\n",
     "is_executing": false
    }
   }
  },
  {
   "cell_type": "code",
   "execution_count": 57,
   "outputs": [
    {
     "name": "stdout",
     "text": [
      "mean: [ 93.04990963  98.91515264 107.88029397], normalize:[0.36490161 0.38790256 0.42305998]\nstddev: [51.02003064 72.8362292  80.03868411], normalize:[0.20007855 0.28563227 0.31387719]\n"
     ],
     "output_type": "stream"
    }
   ],
   "source": [
    "print(f'mean: {mean}, normalize:{mean/255}')\n",
    "print(f'stddev: {stddev}, normalize:{stddev/255}')"
   ],
   "metadata": {
    "collapsed": false,
    "pycharm": {
     "name": "#%%\n",
     "is_executing": false
    }
   }
  },
  {
   "cell_type": "code",
   "execution_count": null,
   "outputs": [],
   "source": [
    "\n"
   ],
   "metadata": {
    "collapsed": false,
    "pycharm": {
     "name": "#%%\n"
    }
   }
  }
 ],
 "metadata": {
  "kernelspec": {
   "display_name": "Python 3",
   "language": "python",
   "name": "python3"
  },
  "language_info": {
   "codemirror_mode": {
    "name": "ipython",
    "version": 2
   },
   "file_extension": ".py",
   "mimetype": "text/x-python",
   "name": "python",
   "nbconvert_exporter": "python",
   "pygments_lexer": "ipython2",
   "version": "2.7.6"
  },
  "pycharm": {
   "stem_cell": {
    "cell_type": "raw",
    "source": [],
    "metadata": {
     "collapsed": false
    }
   }
  }
 },
 "nbformat": 4,
 "nbformat_minor": 0
}