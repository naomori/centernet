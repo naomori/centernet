{
 "cells": [
  {
   "cell_type": "code",
   "execution_count": 2,
   "metadata": {
    "collapsed": true,
    "pycharm": {
     "is_executing": false
    }
   },
   "outputs": [
    {
     "name": "stdout",
     "text": [
      "loading annotations into memory...\nDone (t=0.01s)\ncreating index...\nindex created!\n"
     ],
     "output_type": "stream"
    }
   ],
   "source": [
    "from pycocotools.coco import COCO\n",
    "train_anno_file = '../json/train_arc.json'\n",
    "train_anno = COCO(train_anno_file)"
   ]
  },
  {
   "cell_type": "code",
   "execution_count": 3,
   "outputs": [
    {
     "name": "stdout",
     "text": [
      "['__background__', 'Binder', 'Balloons', 'Baby_Wipes', 'Toilet_Brush', 'Toothbrushes', 'Crayons', 'Salts', 'DVD', 'Glue_Sticks', 'Eraser', 'Scissors', 'Green_Book', 'Socks', 'Irish_Spring', 'Paper_Tape', 'Touch_Tissues', 'Knit_Gloves', 'Laugh_Out_Loud_Jokes', 'Pencil_Cup', 'Mini_Marbles', 'Neoprene_Weight', 'Wine_Glasses', 'Water_Bottle', 'Reynolds_Pie', 'Reynolds_Wrap', 'Robots_Everywhere', 'Duct_Tape', 'Sponges', 'Speed_Stick', 'Index_Cards', 'Ice_Cube_Tray', 'Table_Cover', 'Measuring_Spoons', 'Bath_Sponge', 'Pencils', 'Mousetraps', 'Face_Cloth', 'Tennis_Balls', 'Spray_Bottle', 'Flashlights']\n41\n"
     ],
     "output_type": "stream"
    }
   ],
   "source": [
    "class_name = []\n",
    "cats = train_anno.loadCats(train_anno.getCatIds())\n",
    "[class_name.append(cat['name']) for cat in cats]\n",
    "class_name.insert(0, '__background__')\n",
    "print(class_name)\n",
    "print(len(class_name))"
   ],
   "metadata": {
    "collapsed": false,
    "pycharm": {
     "name": "#%%\n",
     "is_executing": false
    }
   }
  },
  {
   "cell_type": "code",
   "execution_count": null,
   "outputs": [],
   "source": [
    "\n"
   ],
   "metadata": {
    "collapsed": false,
    "pycharm": {
     "name": "#%%\n"
    }
   }
  }
 ],
 "metadata": {
  "kernelspec": {
   "display_name": "Python 3",
   "language": "python",
   "name": "python3"
  },
  "language_info": {
   "codemirror_mode": {
    "name": "ipython",
    "version": 2
   },
   "file_extension": ".py",
   "mimetype": "text/x-python",
   "name": "python",
   "nbconvert_exporter": "python",
   "pygments_lexer": "ipython2",
   "version": "2.7.6"
  },
  "pycharm": {
   "stem_cell": {
    "cell_type": "raw",
    "source": [],
    "metadata": {
     "collapsed": false
    }
   }
  }
 },
 "nbformat": 4,
 "nbformat_minor": 0
}