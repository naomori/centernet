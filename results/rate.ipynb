{
 "cells": [
  {
   "cell_type": "markdown",
   "source": [
    "# Making graphes for Matching Rate, Miss Rate, Mean IoU"
   ],
   "metadata": {
    "collapsed": false,
    "pycharm": {
     "name": "#%% md\n"
    }
   }
  },
  {
   "cell_type": "code",
   "execution_count": 331,
   "outputs": [],
   "source": [
    "import glob\n",
    "import re\n",
    "import natsort\n",
    "import pandas as pd"
   ],
   "metadata": {
    "collapsed": false,
    "pycharm": {
     "name": "#%%\n",
     "is_executing": false
    }
   }
  },
  {
   "cell_type": "code",
   "execution_count": 512,
   "metadata": {
    "collapsed": true,
    "pycharm": {
     "is_executing": false
    }
   },
   "outputs": [],
   "source": [
    "results_dir = \".\"\n",
    "\n",
    "#scale = \"06\"\n",
    "#scale_str = \"0.6-1.4(0.1 step)\"\n",
    "#scale = \"07\"\n",
    "#scale_str = \"0.7-1.3(0.075 step)\"\n",
    "#scale = \"08\"\n",
    "#scale_str = \"0.8-1.2(0.05 step)\"\n",
    "scale = \"09\"\n",
    "scale_str = \"0.9-1.1(0.025 step)\"\n",
    "#scale = \"95\"\n",
    "#scale_str = \"0.95-1.05(0.0125 step)\"\n",
    "\n",
    "all_models = [\"dla34\", \"hourglass\", \"resdcn101\", \"ssd\", \"mtdssd\"]\n",
    "backbones = [\"dla34\", \"hourglass\", \"resdcn101\"]\n",
    "batch_size = \"30\"\n",
    "rate_columns = ['matching_rate', 'miss_rate', 'mean_iou']"
   ]
  },
  {
   "cell_type": "code",
   "execution_count": 513,
   "outputs": [],
   "source": [
    "dla_max_epoch = 920\n",
    "dla_epochs = [ int(epoch) for epoch in range(200, int(dla_max_epoch)+1) \\\n",
    "               if (epoch % 100 == 0) or (epoch == int(dla_max_epoch))]\n",
    "\n",
    "other_max_epoch = 560\n",
    "other_epochs = [ int(epoch) for epoch in range(200, int(other_max_epoch)+1) \\\n",
    "                 if (epoch % 100 == 0) or (epoch == int(other_max_epoch))]\n",
    "\n",
    "epochs = sorted(set(dla_epochs + other_epochs))"
   ],
   "metadata": {
    "collapsed": false,
    "pycharm": {
     "name": "#%%\n",
     "is_executing": false
    }
   }
  },
  {
   "cell_type": "code",
   "execution_count": 514,
   "outputs": [],
   "source": [
    "def fetch_rate(f):\n",
    "    lines = f.readlines()\n",
    "    rate = dict()\n",
    "    for line in lines:\n",
    "        if line.startswith(\"Matching Rate:\"):\n",
    "            rate['matching_rate'] = float(line.split(\":\")[1].strip()) * 100\n",
    "        elif line.startswith(\"Miss(No detection box) Rate:\"):\n",
    "            rate['miss_rate'] = float(line.split(\":\")[1].strip()) * 100\n",
    "        elif line.startswith(\"Mean IoU:\"):\n",
    "            rate['mean_iou'] = float(line.split(\":\")[1].strip()) * 100\n",
    "        else:\n",
    "            continue   \n",
    "    return rate"
   ],
   "metadata": {
    "collapsed": false,
    "pycharm": {
     "name": "#%%\n",
     "is_executing": false
    }
   }
  },
  {
   "cell_type": "code",
   "execution_count": 515,
   "outputs": [
    {
     "name": "stdout",
     "text": [
      "     matching_rate  miss_rate   mean_iou\n",
      "200      90.952762  19.781631  87.480270\n",
      "300      92.003231  20.437018  87.910317\n",
      "400      91.155378  19.602819  87.694870\n",
      "500      91.754244  20.552344  88.132616\n",
      "560            NaN        NaN        NaN\n",
      "600      91.774194  20.665387  88.160052\n",
      "700      91.221069  20.038290  88.007629\n",
      "800      91.485944  19.884170  88.030666\n",
      "900      91.539081  20.295440  88.036477\n",
      "920      91.366906  19.394330  88.056753\n",
      "     matching_rate  miss_rate   mean_iou\n",
      "200      81.648523  20.223325  88.187512\n",
      "300      81.478599  20.235878  88.139649\n",
      "400      82.171157  20.877743  88.383079\n",
      "500      82.701422  20.726362  88.309990\n",
      "560      82.246661  20.536829  88.396743\n",
      "600            NaN        NaN        NaN\n",
      "700            NaN        NaN        NaN\n",
      "800            NaN        NaN        NaN\n",
      "900            NaN        NaN        NaN\n",
      "920            NaN        NaN        NaN\n",
      "     matching_rate  miss_rate   mean_iou\n",
      "200      73.137461  42.899940  87.047980\n",
      "300      73.306773  40.906416  86.635026\n",
      "400      73.689228  38.294118  86.272084\n",
      "500      73.407202  37.034884  86.358296\n",
      "560      74.930362  36.120996  86.127650\n",
      "600            NaN        NaN        NaN\n",
      "700            NaN        NaN        NaN\n",
      "800            NaN        NaN        NaN\n",
      "900            NaN        NaN        NaN\n",
      "920            NaN        NaN        NaN\n"
     ],
     "output_type": "stream"
    }
   ],
   "source": [
    "df = dict()\n",
    "for model in all_models:\n",
    "    df[model] = pd.DataFrame(index=epochs, columns=rate_columns, dtype=float)\n",
    "\n",
    "for model in all_models:\n",
    "    if model == \"ssd\":\n",
    "        ssd_rate = {'matching_rate': 87.94,\n",
    "                    'miss_rate': 29.65,\n",
    "                    'mean_iou': 81.05}\n",
    "        for epoch in epochs:\n",
    "            df[model].loc[epoch] = ssd_rate\n",
    "        continue\n",
    "    elif model == \"mtdssd\":\n",
    "        mtdssd_rate = {'matching_rate': 92.83,\n",
    "                       'miss_rate': 30.77,\n",
    "                       'mean_iou': 83.00}\n",
    "        for epoch in epochs:\n",
    "            df[model].loc[epoch] = mtdssd_rate\n",
    "        continue\n",
    "        \n",
    "    dir = glob.glob(f'{results_dir}/{scale}_{model}')\n",
    "    if not dir or len(dir) == 0:\n",
    "        print(\"list is empty\")\n",
    "        continue\n",
    "    files = glob.glob(f'{dir[0]}/{scale}_{model}_bs{batch_size}_*.txt')\n",
    "    for file in natsort.natsorted(files):\n",
    "        with open(file) as f:\n",
    "            tmp1 = re.search(r'_bs\\d+', file)\n",
    "            batch_size = int(tmp1[0][3:])\n",
    "            tmp2 = re.search(r'_epoch\\d+', file)\n",
    "            epoch = int(tmp2[0][6:])\n",
    "            rate = fetch_rate(f)\n",
    "            df[model].loc[epoch] = rate\n",
    "    print(df[model])"
   ],
   "metadata": {
    "collapsed": false,
    "pycharm": {
     "name": "#%%\n",
     "is_executing": false
    }
   }
  },
  {
   "cell_type": "code",
   "execution_count": 516,
   "outputs": [
    {
     "name": "stdout",
     "text": [
      "         dla34  hourglass  resdcn101\n",
      "200  90.952762  81.648523  73.137461\n",
      "300  92.003231  81.478599  73.306773\n",
      "400  91.155378  82.171157  73.689228\n",
      "500  91.754244  82.701422  73.407202\n",
      "560  91.774194  82.246661  74.930362\n",
      "600  91.774194        NaN        NaN\n",
      "700  91.221069        NaN        NaN\n",
      "800  91.485944        NaN        NaN\n",
      "900  91.539081        NaN        NaN\n",
      "920  91.366906        NaN        NaN\n"
     ],
     "output_type": "stream"
    },
    {
     "data": {
      "text/plain": "<Figure size 432x288 with 1 Axes>",
      "image/png": "[encoded data removed]"
     },
     "metadata": {
      "needs_background": "light"
     },
     "output_type": "display_data"
    }
   ],
   "source": [
    "rate_column = 'matching_rate'\n",
    "df_matching_rate = pd.concat([df['dla34'][rate_column],\n",
    "                              df['hourglass'][rate_column],\n",
    "                              df['resdcn101'][rate_column]],\n",
    "                             axis=1, keys=backbones)\n",
    "df_matching_rate.dropna(how='all', inplace=True)\n",
    "df_matching_rate.fillna(method='bfill', inplace=True)\n",
    "ax = df_matching_rate.plot(\n",
    "    title=f'Scale:{scale_str}, BatchSize:{batch_size}',\n",
    "    grid=True)\n",
    "ax.plot(list(df['ssd'].index.values), list(df['ssd'][rate_column]),\n",
    "        label='ssd', ls='dotted', linewidth=1)\n",
    "ax.plot(list(df['mtdssd'].index.values), list(df['mtdssd'][rate_column]),\n",
    "        label='mtdssd', ls='dashed', linewidth=1)\n",
    "ax.legend()\n",
    "ax.set_xlabel('Epoch')\n",
    "ax.set_ylabel('Matching Rate[%]')\n",
    "fig = ax.get_figure()\n",
    "fig.savefig(f\"{scale}_{batch_size}_matching_rate.png\")\n",
    "print(df_matching_rate)"
   ],
   "metadata": {
    "collapsed": false,
    "pycharm": {
     "name": "#%%\n",
     "is_executing": false
    }
   }
  },
  {
   "cell_type": "code",
   "execution_count": 517,
   "outputs": [
    {
     "name": "stdout",
     "text": [
      "         dla34  hourglass  resdcn101\n",
      "200  19.781631  20.223325  42.899940\n",
      "300  20.437018  20.235878  40.906416\n",
      "400  19.602819  20.877743  38.294118\n",
      "500  20.552344  20.726362  37.034884\n",
      "560  20.665387  20.536829  36.120996\n",
      "600  20.665387        NaN        NaN\n",
      "700  20.038290        NaN        NaN\n",
      "800  19.884170        NaN        NaN\n",
      "900  20.295440        NaN        NaN\n",
      "920  19.394330        NaN        NaN\n"
     ],
     "output_type": "stream"
    },
    {
     "data": {
      "text/plain": "<Figure size 432x288 with 1 Axes>",
      "image/png": "[encoded data removed]"
     },
     "metadata": {
      "needs_background": "light"
     },
     "output_type": "display_data"
    }
   ],
   "source": [
    "rate_column = 'miss_rate'\n",
    "df_miss_rate = pd.concat([df['dla34'][rate_column],\n",
    "                              df['hourglass'][rate_column],\n",
    "                              df['resdcn101'][rate_column]],\n",
    "                             axis=1, keys=backbones)\n",
    "df_miss_rate.dropna(how='all', inplace=True)\n",
    "df_miss_rate.fillna(method='bfill', inplace=True)\n",
    "ax = df_miss_rate.plot(\n",
    "    title=f'Scale:{scale_str}, BatchSize:{batch_size}',\n",
    "    grid=True)\n",
    "ax.plot(list(df['ssd'].index.values), list(df['ssd'][rate_column]),\n",
    "        label='ssd', ls='dotted', linewidth=1)\n",
    "ax.plot(list(df['mtdssd'].index.values), list(df['mtdssd'][rate_column]),\n",
    "        label='mtdssd', ls='dashed', linewidth=1)\n",
    "ax.legend()\n",
    "ax.set_xlabel('Epoch')\n",
    "ax.set_ylabel('Miss Rate[%]')\n",
    "fig = ax.get_figure()\n",
    "fig.savefig(f\"{scale}_{batch_size}_miss_rate.png\")\n",
    "print(df_miss_rate)"
   ],
   "metadata": {
    "collapsed": false,
    "pycharm": {
     "name": "#%%\n",
     "is_executing": false
    }
   }
  },
  {
   "cell_type": "code",
   "execution_count": 518,
   "outputs": [
    {
     "name": "stdout",
     "text": [
      "         dla34  hourglass  resdcn101\n",
      "200  87.480270  88.187512  87.047980\n",
      "300  87.910317  88.139649  86.635026\n",
      "400  87.694870  88.383079  86.272084\n",
      "500  88.132616  88.309990  86.358296\n",
      "560  88.160052  88.396743  86.127650\n",
      "600  88.160052        NaN        NaN\n",
      "700  88.007629        NaN        NaN\n",
      "800  88.030666        NaN        NaN\n",
      "900  88.036477        NaN        NaN\n",
      "920  88.056753        NaN        NaN\n"
     ],
     "output_type": "stream"
    },
    {
     "data": {
      "text/plain": "<Figure size 432x288 with 1 Axes>",
      "image/png": "[encoded data removed]"
     },
     "metadata": {
      "needs_background": "light"
     },
     "output_type": "display_data"
    }
   ],
   "source": [
    "rate_column = 'mean_iou'\n",
    "df_mean_iou = pd.concat([df['dla34'][rate_column],\n",
    "                              df['hourglass'][rate_column],\n",
    "                              df['resdcn101'][rate_column]],\n",
    "                             axis=1, keys=backbones)\n",
    "df_mean_iou.dropna(how='all', inplace=True)\n",
    "df_mean_iou.fillna(method='bfill', inplace=True)\n",
    "ax = df_mean_iou.plot(\n",
    "    title=f'Scale:{scale_str}, BatchSize:{batch_size}',\n",
    "    grid=True)\n",
    "ax.plot(list(df['ssd'].index.values), list(df['ssd'][rate_column]),\n",
    "        label='ssd', ls='dotted', linewidth=1)\n",
    "ax.plot(list(df['mtdssd'].index.values), list(df['mtdssd'][rate_column]),\n",
    "        label='mtdssd', ls='dashed', linewidth=1)\n",
    "ax.legend()\n",
    "ax.set_xlabel('Epoch')\n",
    "ax.set_ylabel('Mean IoU[%]')\n",
    "fig = ax.get_figure()\n",
    "fig.savefig(f\"{scale}_{batch_size}_mean_iou.png\")\n",
    "print(df_mean_iou)"
   ],
   "metadata": {
    "collapsed": false,
    "pycharm": {
     "name": "#%%\n",
     "is_executing": false
    }
   }
  },
  {
   "cell_type": "markdown",
   "source": [
    "# Finding the best score "
   ],
   "metadata": {
    "collapsed": false,
    "pycharm": {
     "name": "#%% md\n",
     "is_executing": false
    }
   }
  },
  {
   "cell_type": "code",
   "execution_count": 339,
   "outputs": [],
   "source": [
    "scales = ['06', '07', '09', '95']\n",
    "backbones = [\"dla34\", \"hourglass\", \"resdcn101\"]\n",
    "batch_sizes = [10, 15, 30, 43, 86]\n",
    "\n",
    "matching_rate_max = {'rate': 0.0}\n",
    "miss_rate_min = {'rate': 100.0}\n",
    "mean_iou_max = {'rate': 0.0}"
   ],
   "metadata": {
    "collapsed": false,
    "pycharm": {
     "name": "#%%\n",
     "is_executing": false
    }
   }
  },
  {
   "cell_type": "code",
   "execution_count": 340,
   "outputs": [
    {
     "name": "stdout",
     "text": [
      "matching_rate:{'rate': 92.00323101777059, 'scale': '09', 'backbone': 'dla34', 'batch_size': 30, 'epoch': 300}\n",
      "miss_rate:{'rate': 16.317460317460316, 'scale': '07', 'backbone': 'dla34', 'batch_size': 30, 'epoch': 200}\n",
      "mean_iou:{'rate': 89.37945177151846, 'scale': '09', 'backbone': 'hourglass', 'batch_size': 10, 'epoch': 500}\n"
     ],
     "output_type": "stream"
    }
   ],
   "source": [
    "for scale in scales:\n",
    "    for backbone in backbones:\n",
    "        for batch_size in batch_sizes:\n",
    "            dir = glob.glob(f'{results_dir}/{scale}_{backbone}')\n",
    "            if not dir or len(dir) == 0:\n",
    "                continue\n",
    "            files = glob.glob(f'{dir[0]}/{scale}_{backbone}_bs{batch_size}_*.txt')\n",
    "            for file in natsort.natsorted(files):\n",
    "                with open(file) as f:\n",
    "                    tmp1 = re.search(r'_bs\\d+', file)\n",
    "                    batch_size = int(tmp1[0][3:])\n",
    "                    tmp2 = re.search(r'_epoch\\d+', file)\n",
    "                    epoch = int(tmp2[0][6:])\n",
    "                    rate = fetch_rate(f)\n",
    "                    if rate['matching_rate'] > matching_rate_max['rate']:\n",
    "                        matching_rate_max['rate'] = rate['matching_rate']\n",
    "                        matching_rate_max['scale'] = scale\n",
    "                        matching_rate_max['backbone'] = backbone\n",
    "                        matching_rate_max['batch_size'] = batch_size\n",
    "                        matching_rate_max['epoch'] = epoch\n",
    "                    if rate['miss_rate'] < miss_rate_min['rate']:\n",
    "                        miss_rate_min['rate'] = rate['miss_rate']\n",
    "                        miss_rate_min['scale'] = scale\n",
    "                        miss_rate_min['backbone'] = backbone\n",
    "                        miss_rate_min['batch_size'] = batch_size\n",
    "                        miss_rate_min['epoch'] = epoch               \n",
    "                    if rate['mean_iou'] > mean_iou_max['rate']:\n",
    "                        mean_iou_max['rate'] = rate['mean_iou']\n",
    "                        mean_iou_max['scale'] = scale\n",
    "                        mean_iou_max['backbone'] = backbone\n",
    "                        mean_iou_max['batch_size'] = batch_size\n",
    "                        mean_iou_max['epoch'] = epoch               \n",
    "\n",
    "print(f\"matching_rate:{matching_rate_max}\")\n",
    "print(f\"miss_rate:{miss_rate_min}\")\n",
    "print(f\"mean_iou:{mean_iou_max}\")"
   ],
   "metadata": {
    "collapsed": false,
    "pycharm": {
     "name": "#%%\n",
     "is_executing": false
    }
   }
  },
  {
   "cell_type": "code",
   "execution_count": null,
   "outputs": [],
   "source": [
    "\n"
   ],
   "metadata": {
    "collapsed": false,
    "pycharm": {
     "name": "#%%\n"
    }
   }
  }
 ],
 "metadata": {
  "kernelspec": {
   "display_name": "Python 3",
   "language": "python",
   "name": "python3"
  },
  "language_info": {
   "codemirror_mode": {
    "name": "ipython",
    "version": 2
   },
   "file_extension": ".py",
   "mimetype": "text/x-python",
   "name": "python",
   "nbconvert_exporter": "python",
   "pygments_lexer": "ipython2",
   "version": "2.7.6"
  },
  "pycharm": {
   "stem_cell": {
    "cell_type": "raw",
    "source": [],
    "metadata": {
     "collapsed": false
    }
   }
  }
 },
 "nbformat": 4,
 "nbformat_minor": 0
}